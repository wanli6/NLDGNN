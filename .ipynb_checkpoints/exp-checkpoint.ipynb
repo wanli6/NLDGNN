{
 "cells": [
  {
   "cell_type": "code",
   "id": "cf042f413326e639",
   "metadata": {
    "collapsed": true,
    "ExecuteTime": {
     "end_time": "2024-05-09T02:04:27.463191Z",
     "start_time": "2024-05-09T02:04:27.452204Z"
    }
   },
   "source": [
    "import numpy as np\n",
    "import torch\n",
    "from torch_geometric.datasets import WebKB"
   ],
   "outputs": [],
   "execution_count": 2
  },
  {
   "metadata": {},
   "cell_type": "code",
   "outputs": [],
   "execution_count": 1,
   "source": [
    "\n",
    "dataset = WebKB(root='data/', name='Texas')\n",
    "data = dataset[0]"
   ],
   "id": "ccd0b98ea0efbc40"
  },
  {
   "metadata": {},
   "cell_type": "code",
   "source": [
    "neigh_distribution = []\n",
    "for node_idx in range(data.num_nodes):\n",
    "    neighbors = data.edge_index[1, data.edge_index[0] == node_idx].tolist()\n",
    "    neighbors_label = data.y[neighbors]\n",
    "    distri = torch.bincount(neighbors_label, minlength=dataset.num_classes).float()\n",
    "    distri = distri / distri.sum() if distri.sum() > 0 else distri\n",
    "    neigh_distribution.append(distri)\n",
    "\n",
    "neigh_distribution = torch.stack(neigh_distribution)\n",
    "similarity_matrix = torch.nn.functional.cosine_similarity(neigh_distribution.unsqueeze(1), neigh_distribution.unsqueeze(0), dim=-1)"
   ],
   "id": "initial_id",
   "outputs": [],
   "execution_count": null
  },
  {
   "metadata": {},
   "cell_type": "code",
   "source": [
    "v = data.x\n",
    "z = torch.randn(data.num_nodes, data.num_nodes)\n",
    "# 计算相似度矩阵\n",
    "similarity_matrix = torch.nn.functional.cosine_similarity(v.unsqueeze(1), v.unsqueeze(0), dim=-1)\n",
    "\n",
    "# 获取大于0的元素的掩码矩阵\n",
    "mask1 = z > 0\n",
    "# 创建一个与相似度矩阵相同大小的矩阵，并填充为False\n",
    "mask2 = torch.zeros_like(similarity_matrix, dtype=torch.bool)\n",
    "\n",
    "# 获取每行相似度最大的一半索引\n",
    "_, topk_indices = similarity_matrix.topk(similarity_matrix.size(1) // 2, dim=1, largest=False)\n",
    "\n",
    "# 将相似度最大的一半的位置置为True\n",
    "mask2.scatter_(1, topk_indices, True)"
   ],
   "id": "217164cdeaf28cde",
   "outputs": [],
   "execution_count": null
  },
  {
   "metadata": {},
   "cell_type": "code",
   "source": [
    "mask_1 = torch.zeros((3, 3))\n",
    "topk = torch.tensor([\n",
    "    [2, 1],\n",
    "    [1, 0],\n",
    "    [0, 2]\n",
    "])\n",
    "mask_1.scatter_(1, topk, True)"
   ],
   "id": "4a48a2e73301f86e",
   "outputs": [],
   "execution_count": null
  },
  {
   "metadata": {},
   "cell_type": "code",
   "source": [
    "from torch_geometric.data import Data\n",
    "from datasets import Dataset\n",
    "\n",
    "dataset = Dataset(name='roman-empire',\n",
    "                  add_self_loops=False,\n",
    "                  device='cuda:0',\n",
    "                  use_sgc_features=False,\n",
    "                  use_identity_features=False,\n",
    "                  use_adjacency_features=False,\n",
    "                  do_not_use_original_features=False)\n",
    "x = dataset.node_features\n",
    "y = dataset.labels\n",
    "src, dst = dataset.graph.edges()\n",
    "edge_index = torch.stack([src, dst], dim=0)\n",
    "data = Data(x=x, edge_index=edge_index, y=y)\n",
    "data.train_mask = dataset.train_mask\n",
    "data.val_mask = dataset.val_mask\n",
    "data.test_mask = dataset.test_mask"
   ],
   "id": "49d7385be5ba8c30",
   "outputs": [],
   "execution_count": null
  },
  {
   "metadata": {
    "ExecuteTime": {
     "end_time": "2024-04-23T14:16:57.870146Z",
     "start_time": "2024-04-23T14:16:57.848148Z"
    }
   },
   "cell_type": "code",
   "source": [
    "from utils import cal_nei_index\n",
    "from tqdm import trange\n",
    "import os\n",
    "from torch_geometric.utils import remove_self_loops, k_hop_subgraph\n",
    "from torch_geometric.datasets import WebKB\n",
    "import numpy as np\n",
    "import torch\n",
    "\n",
    "dataset = WebKB(root='data/', name='Texas')\n",
    "data = dataset[0]\n",
    "edge_index, _ = remove_self_loops(data.edge_index)\n",
    "nei_dict = cal_nei_index(data, edge_index, 1, data.num_nodes)\n",
    "\n",
    "nei_dict1 = {}\n",
    "for node_idx in range(data.num_nodes):\n",
    "    neighbors = edge_index[1, edge_index[0] == node_idx]\n",
    "    nei_dict1[node_idx] = neighbors"
   ],
   "id": "aba8a30822d71d18",
   "outputs": [],
   "execution_count": 4
  },
  {
   "metadata": {
    "ExecuteTime": {
     "end_time": "2024-04-25T02:03:26.706006Z",
     "start_time": "2024-04-25T02:03:26.682495Z"
    }
   },
   "cell_type": "code",
   "source": [
    "from torch_geometric.datasets import WebKB\n",
    "from utils import cal_nei_index\n",
    "import torch\n",
    "dataset = WebKB(root='data/', name='Texas')\n",
    "data = dataset[0]\n",
    "y = data.y\n",
    "neigh_distribution1 = []\n",
    "nei_dict = cal_nei_index('texas', data.edge_index, 1, num_nodes=data.num_nodes)\n",
    "for i, neigh in nei_dict.items():\n",
    "    neighbors_label = torch.index_select(y, 0, neigh)\n",
    "    distri = torch.zeros(dataset.num_classes, device=neighbors_label.device)\n",
    "    distri.scatter_add_(0, neighbors_label, torch.ones_like(neighbors_label, dtype=torch.float))\n",
    "    distri /= distri.sum()\n",
    "    neigh_distribution1.append(distri)\n",
    "neigh_distribution1 = torch.stack(neigh_distribution1)\n",
    "\n"
   ],
   "id": "16fa0c2f3ff1b5e4",
   "outputs": [],
   "execution_count": 10
  },
  {
   "metadata": {
    "ExecuteTime": {
     "end_time": "2024-04-25T02:03:29.259058Z",
     "start_time": "2024-04-25T02:03:29.233059Z"
    }
   },
   "cell_type": "code",
   "source": [
    "neigh_distribution = []\n",
    "for node_idx in range(data.num_nodes):\n",
    "    neighbors = data.edge_index[1, data.edge_index[0] == node_idx].tolist()\n",
    "    neighbors_label = data.y[neighbors]\n",
    "    distri = torch.bincount(neighbors_label, minlength=dataset.num_classes).float()\n",
    "    distri = distri / distri.sum() if distri.sum() > 0 else distri\n",
    "    neigh_distribution.append(distri)\n",
    "\n",
    "neigh_distribution = torch.stack(neigh_distribution)\n",
    "torch.allclose(neigh_distribution, neigh_distribution1)"
   ],
   "id": "83c4ffa1ab8c1da5",
   "outputs": [
    {
     "data": {
      "text/plain": [
       "False"
      ]
     },
     "execution_count": 11,
     "metadata": {},
     "output_type": "execute_result"
    }
   ],
   "execution_count": 11
  },
  {
   "metadata": {
    "ExecuteTime": {
     "end_time": "2024-05-12T08:36:19.695401Z",
     "start_time": "2024-05-12T08:36:19.674045Z"
    }
   },
   "cell_type": "code",
   "source": [
    "import torch.nn.functional as F\n",
    "\n",
    "label = torch.tensor([0, 1, 1, 2, 0])\n",
    "one_hot = torch.eye(3)\n",
    "one_hot = one_hot[label]\n",
    "A = torch.tensor([\n",
    "    [1, 1, 1, 1, 0],\n",
    "    [1, 1, 1, 1, 1],\n",
    "    [1, 1, 1, 1, 0],\n",
    "    [1, 1, 1, 1, 1],\n",
    "    [0, 1, 0, 1, 1],\n",
    "])\n",
    "A = A.float()\n",
    "result = torch.matmul(A, one_hot)\n",
    "result_sum = result.sum(dim=1, keepdim=True)\n",
    "nei_dis = torch.where(result_sum != 0, result / result_sum, torch.zeros_like(result))\n",
    "print(nei_dis-1/3)\n",
    "print(torch.mean(torch.sum(nei_dis ** 2, dim=1) - 1 / 3))"
   ],
   "id": "305250ef34cc0890",
   "outputs": [
    {
     "name": "stdout",
     "output_type": "stream",
     "text": [
      "tensor([[-0.0833,  0.1667, -0.0833],\n",
      "        [ 0.0667,  0.0667, -0.1333],\n",
      "        [-0.0833,  0.1667, -0.0833],\n",
      "        [ 0.0667,  0.0667, -0.1333],\n",
      "        [ 0.0000,  0.0000,  0.0000]])\n",
      "tensor(0.0273)\n"
     ]
    }
   ],
   "execution_count": 14
  },
  {
   "metadata": {
    "ExecuteTime": {
     "end_time": "2024-05-09T02:21:45.617343Z",
     "start_time": "2024-05-09T02:21:45.580542Z"
    }
   },
   "cell_type": "code",
   "source": [
    "from torch_geometric.utils import remove_self_loops\n",
    "\n",
    "def get_neighbor_distribution(self, x, edge_index):\n",
    "    # x = x.softmax(dim=1)\n",
    "    # y_hat = torch.argmax(x, dim=1)\n",
    "    y_hat = x\n",
    "    neigh_distribution = []\n",
    "    for node_idx in range(x.size(0)):\n",
    "        neighbors = edge_index[1, edge_index[0] == node_idx].tolist()\n",
    "        neighbors_label = y_hat[neighbors]\n",
    "        distri = torch.bincount(neighbors_label, minlength=5).float()\n",
    "        distri = distri / distri.sum() if distri.sum() > 0 else distri\n",
    "        neigh_distribution.append(distri)\n",
    "    neigh_distribution = torch.stack(neigh_distribution)\n",
    "    return neigh_distribution\n",
    "\n",
    "def get_neighbor_distribution2(self, x, adj):\n",
    "    # x = x.softmax(dim=1)\n",
    "    # y_hat = torch.argmax(x, dim=1)\n",
    "    y_hat = x\n",
    "    one_hot = torch.eye(5).to(y_hat.device)\n",
    "    one_hot = one_hot[y_hat]\n",
    "    nei_dis = torch.matmul(adj, one_hot)\n",
    "    nei_dis_sum = nei_dis.sum(dim=1, keepdim=True)\n",
    "    nei_dis = torch.where(nei_dis_sum != 0, nei_dis / nei_dis_sum, torch.zeros_like(nei_dis))\n",
    "    return nei_dis\n",
    "\n",
    "dataset = WebKB(root='data/', name='Texas')\n",
    "data = dataset[0]\n",
    "x = data.y\n",
    "edge_index = data.edge_index\n",
    "edge_index, _ = remove_self_loops(data.edge_index)\n",
    "adj = torch.sparse_coo_tensor(edge_index, torch.ones_like(edge_index[0]), size=[x.size(0), x.size(0)]).float()\n",
    "a = get_neighbor_distribution(_, x, edge_index) \n",
    "b = get_neighbor_distribution2(_, x, adj)\n",
    "a==b"
   ],
   "id": "52d9b15bac6cedc2",
   "outputs": [
    {
     "data": {
      "text/plain": [
       "tensor([[True, True, True, True, True],\n",
       "        [True, True, True, True, True],\n",
       "        [True, True, True, True, True],\n",
       "        [True, True, True, True, True],\n",
       "        [True, True, True, True, True],\n",
       "        [True, True, True, True, True],\n",
       "        [True, True, True, True, True],\n",
       "        [True, True, True, True, True],\n",
       "        [True, True, True, True, True],\n",
       "        [True, True, True, True, True],\n",
       "        [True, True, True, True, True],\n",
       "        [True, True, True, True, True],\n",
       "        [True, True, True, True, True],\n",
       "        [True, True, True, True, True],\n",
       "        [True, True, True, True, True],\n",
       "        [True, True, True, True, True],\n",
       "        [True, True, True, True, True],\n",
       "        [True, True, True, True, True],\n",
       "        [True, True, True, True, True],\n",
       "        [True, True, True, True, True],\n",
       "        [True, True, True, True, True],\n",
       "        [True, True, True, True, True],\n",
       "        [True, True, True, True, True],\n",
       "        [True, True, True, True, True],\n",
       "        [True, True, True, True, True],\n",
       "        [True, True, True, True, True],\n",
       "        [True, True, True, True, True],\n",
       "        [True, True, True, True, True],\n",
       "        [True, True, True, True, True],\n",
       "        [True, True, True, True, True],\n",
       "        [True, True, True, True, True],\n",
       "        [True, True, True, True, True],\n",
       "        [True, True, True, True, True],\n",
       "        [True, True, True, True, True],\n",
       "        [True, True, True, True, True],\n",
       "        [True, True, True, True, True],\n",
       "        [True, True, True, True, True],\n",
       "        [True, True, True, True, True],\n",
       "        [True, True, True, True, True],\n",
       "        [True, True, True, True, True],\n",
       "        [True, True, True, True, True],\n",
       "        [True, True, True, True, True],\n",
       "        [True, True, True, True, True],\n",
       "        [True, True, True, True, True],\n",
       "        [True, True, True, True, True],\n",
       "        [True, True, True, True, True],\n",
       "        [True, True, True, True, True],\n",
       "        [True, True, True, True, True],\n",
       "        [True, True, True, True, True],\n",
       "        [True, True, True, True, True],\n",
       "        [True, True, True, True, True],\n",
       "        [True, True, True, True, True],\n",
       "        [True, True, True, True, True],\n",
       "        [True, True, True, True, True],\n",
       "        [True, True, True, True, True],\n",
       "        [True, True, True, True, True],\n",
       "        [True, True, True, True, True],\n",
       "        [True, True, True, True, True],\n",
       "        [True, True, True, True, True],\n",
       "        [True, True, True, True, True],\n",
       "        [True, True, True, True, True],\n",
       "        [True, True, True, True, True],\n",
       "        [True, True, True, True, True],\n",
       "        [True, True, True, True, True],\n",
       "        [True, True, True, True, True],\n",
       "        [True, True, True, True, True],\n",
       "        [True, True, True, True, True],\n",
       "        [True, True, True, True, True],\n",
       "        [True, True, True, True, True],\n",
       "        [True, True, True, True, True],\n",
       "        [True, True, True, True, True],\n",
       "        [True, True, True, True, True],\n",
       "        [True, True, True, True, True],\n",
       "        [True, True, True, True, True],\n",
       "        [True, True, True, True, True],\n",
       "        [True, True, True, True, True],\n",
       "        [True, True, True, True, True],\n",
       "        [True, True, True, True, True],\n",
       "        [True, True, True, True, True],\n",
       "        [True, True, True, True, True],\n",
       "        [True, True, True, True, True],\n",
       "        [True, True, True, True, True],\n",
       "        [True, True, True, True, True],\n",
       "        [True, True, True, True, True],\n",
       "        [True, True, True, True, True],\n",
       "        [True, True, True, True, True],\n",
       "        [True, True, True, True, True],\n",
       "        [True, True, True, True, True],\n",
       "        [True, True, True, True, True],\n",
       "        [True, True, True, True, True],\n",
       "        [True, True, True, True, True],\n",
       "        [True, True, True, True, True],\n",
       "        [True, True, True, True, True],\n",
       "        [True, True, True, True, True],\n",
       "        [True, True, True, True, True],\n",
       "        [True, True, True, True, True],\n",
       "        [True, True, True, True, True],\n",
       "        [True, True, True, True, True],\n",
       "        [True, True, True, True, True],\n",
       "        [True, True, True, True, True],\n",
       "        [True, True, True, True, True],\n",
       "        [True, True, True, True, True],\n",
       "        [True, True, True, True, True],\n",
       "        [True, True, True, True, True],\n",
       "        [True, True, True, True, True],\n",
       "        [True, True, True, True, True],\n",
       "        [True, True, True, True, True],\n",
       "        [True, True, True, True, True],\n",
       "        [True, True, True, True, True],\n",
       "        [True, True, True, True, True],\n",
       "        [True, True, True, True, True],\n",
       "        [True, True, True, True, True],\n",
       "        [True, True, True, True, True],\n",
       "        [True, True, True, True, True],\n",
       "        [True, True, True, True, True],\n",
       "        [True, True, True, True, True],\n",
       "        [True, True, True, True, True],\n",
       "        [True, True, True, True, True],\n",
       "        [True, True, True, True, True],\n",
       "        [True, True, True, True, True],\n",
       "        [True, True, True, True, True],\n",
       "        [True, True, True, True, True],\n",
       "        [True, True, True, True, True],\n",
       "        [True, True, True, True, True],\n",
       "        [True, True, True, True, True],\n",
       "        [True, True, True, True, True],\n",
       "        [True, True, True, True, True],\n",
       "        [True, True, True, True, True],\n",
       "        [True, True, True, True, True],\n",
       "        [True, True, True, True, True],\n",
       "        [True, True, True, True, True],\n",
       "        [True, True, True, True, True],\n",
       "        [True, True, True, True, True],\n",
       "        [True, True, True, True, True],\n",
       "        [True, True, True, True, True],\n",
       "        [True, True, True, True, True],\n",
       "        [True, True, True, True, True],\n",
       "        [True, True, True, True, True],\n",
       "        [True, True, True, True, True],\n",
       "        [True, True, True, True, True],\n",
       "        [True, True, True, True, True],\n",
       "        [True, True, True, True, True],\n",
       "        [True, True, True, True, True],\n",
       "        [True, True, True, True, True],\n",
       "        [True, True, True, True, True],\n",
       "        [True, True, True, True, True],\n",
       "        [True, True, True, True, True],\n",
       "        [True, True, True, True, True],\n",
       "        [True, True, True, True, True],\n",
       "        [True, True, True, True, True],\n",
       "        [True, True, True, True, True],\n",
       "        [True, True, True, True, True],\n",
       "        [True, True, True, True, True],\n",
       "        [True, True, True, True, True],\n",
       "        [True, True, True, True, True],\n",
       "        [True, True, True, True, True],\n",
       "        [True, True, True, True, True],\n",
       "        [True, True, True, True, True],\n",
       "        [True, True, True, True, True],\n",
       "        [True, True, True, True, True],\n",
       "        [True, True, True, True, True],\n",
       "        [True, True, True, True, True],\n",
       "        [True, True, True, True, True],\n",
       "        [True, True, True, True, True],\n",
       "        [True, True, True, True, True],\n",
       "        [True, True, True, True, True],\n",
       "        [True, True, True, True, True],\n",
       "        [True, True, True, True, True],\n",
       "        [True, True, True, True, True],\n",
       "        [True, True, True, True, True],\n",
       "        [True, True, True, True, True],\n",
       "        [True, True, True, True, True],\n",
       "        [True, True, True, True, True],\n",
       "        [True, True, True, True, True],\n",
       "        [True, True, True, True, True],\n",
       "        [True, True, True, True, True],\n",
       "        [True, True, True, True, True],\n",
       "        [True, True, True, True, True],\n",
       "        [True, True, True, True, True],\n",
       "        [True, True, True, True, True],\n",
       "        [True, True, True, True, True],\n",
       "        [True, True, True, True, True],\n",
       "        [True, True, True, True, True]])"
      ]
     },
     "execution_count": 17,
     "metadata": {},
     "output_type": "execute_result"
    }
   ],
   "execution_count": 17
  },
  {
   "metadata": {},
   "cell_type": "code",
   "outputs": [],
   "execution_count": null,
   "source": "",
   "id": "9f1f6d8a28dc95ab"
  },
  {
   "metadata": {
    "ExecuteTime": {
     "end_time": "2024-05-12T07:56:28.420244Z",
     "start_time": "2024-05-12T07:56:28.397818Z"
    }
   },
   "cell_type": "code",
   "source": [
    "import torch\n",
    "n=10\n",
    "c=3\n",
    "# 假设原始矩阵为X,形状为(n,c)\n",
    "X = torch.ones(n, c)\n",
    "row_weights = torch.randn(n)\n",
    "# 对每一行进行加权求和\n",
    "weighted_rows = X * row_weights.view(-1, 1)\n",
    "torch.ones(10,1)"
   ],
   "id": "7fb1038bc396d10a",
   "outputs": [
    {
     "data": {
      "text/plain": [
       "tensor([[1.],\n",
       "        [1.],\n",
       "        [1.],\n",
       "        [1.],\n",
       "        [1.],\n",
       "        [1.],\n",
       "        [1.],\n",
       "        [1.],\n",
       "        [1.],\n",
       "        [1.]])"
      ]
     },
     "execution_count": 3,
     "metadata": {},
     "output_type": "execute_result"
    }
   ],
   "execution_count": 3
  },
  {
   "metadata": {},
   "cell_type": "code",
   "outputs": [],
   "execution_count": null,
   "source": "",
   "id": "7c3064ae9352196f"
  },
  {
   "metadata": {
    "ExecuteTime": {
     "end_time": "2024-06-13T07:02:20.143552Z",
     "start_time": "2024-06-13T07:02:20.063559Z"
    }
   },
   "cell_type": "code",
   "source": [
    "from datasets import Dataset\n",
    "import torch \n",
    "from torch_geometric.data import Data\n",
    "\n",
    "data_name = 'chameleon_directed'\n",
    "dataset = Dataset(name=data_name,\n",
    "                  add_self_loops=False,\n",
    "                  device='cuda:0',\n",
    "                  use_sgc_features=False,\n",
    "                  use_identity_features=False,\n",
    "                  use_adjacency_features=False,\n",
    "                  do_not_use_original_features=False)\n",
    "\n",
    "x = dataset.node_features\n",
    "y = dataset.labels.long()\n",
    "src, dst = dataset.graph.edges()\n",
    "edge_index = torch.stack([src, dst], dim=0)\n",
    "data = Data(x=x, edge_index=edge_index, y=y)\n",
    "data.train_mask = dataset.train_mask\n",
    "data.val_mask = dataset.val_mask\n",
    "data.test_mask = dataset.test_mask"
   ],
   "id": "86ffd9460147e2f7",
   "outputs": [
    {
     "name": "stdout",
     "output_type": "stream",
     "text": [
      "Preparing data...\n"
     ]
    }
   ],
   "execution_count": 17
  },
  {
   "metadata": {
    "ExecuteTime": {
     "end_time": "2024-06-13T07:02:45.631824Z",
     "start_time": "2024-06-13T07:02:45.460688Z"
    }
   },
   "cell_type": "code",
   "source": [
    "from torch_geometric.datasets import WikipediaNetwork\n",
    "\n",
    "dataset1 = WikipediaNetwork(root='data/', name='chameleon')\n",
    "data1 = dataset1[0]\n",
    "y1 = data1.y\n",
    "x1 = data1.x.to('cuda:0')\n",
    "torch.allclose(x1 , x)"
   ],
   "id": "7d691af5ddf4025a",
   "outputs": [
    {
     "data": {
      "text/plain": [
       "True"
      ]
     },
     "execution_count": 20,
     "metadata": {},
     "output_type": "execute_result"
    }
   ],
   "execution_count": 20
  },
  {
   "metadata": {
    "ExecuteTime": {
     "end_time": "2024-08-10T03:40:06.801391Z",
     "start_time": "2024-08-10T03:40:06.327509Z"
    }
   },
   "cell_type": "code",
   "source": [
    "import torch\n",
    "import numpy as np\n",
    "import matplotlib.pyplot as plt\n",
    "import seaborn as sns\n",
    "from utils import load_dataset\n",
    "\n",
    "\n",
    "z = torch.load('z.pt').cpu().numpy()\n",
    "# 找到矩阵中的最大正数和最小负数\n",
    "max_positive = np.max(z[z > 0])\n",
    "min_negative = np.min(z[z < 0])\n",
    "# 分别处理正数和负数\n",
    "positive_part = z[z > 0]\n",
    "negative_part = z[z < 0]\n",
    "# 正数缩放到(0, 1)\n",
    "scaled_positive = (positive_part - np.min(positive_part)) / (max_positive - np.min(positive_part))\n",
    "# 负数缩放到(-1, 0)\n",
    "scaled_negative = (negative_part - min_negative) / (min_negative - np.max(negative_part))\n",
    "# 创建一个与原始矩阵形状相同的零矩阵\n",
    "scaled_matrix = np.zeros(z.shape)\n",
    "# 将缩放后的正数和负数放回原矩阵的位置\n",
    "scaled_matrix[z > 0] = scaled_positive\n",
    "scaled_matrix[z < 0] = scaled_negative\n",
    "\n",
    "z_scaled = scaled_matrix\n",
    "\n",
    "dataset, data = load_dataset('texas')\n",
    "y = data.y.cpu().numpy()\n",
    "sorted_indices = np.argsort(y)\n",
    "\n",
    "z_sorted = z_scaled[sorted_indices]\n",
    "\n",
    "\n",
    "\n",
    "# \n",
    "# print(np.count_nonzero(z>0))\n",
    "# print(np.count_nonzero(scaled_matrix>0))\n",
    "sns.heatmap(z_sorted, annot=True, clim=[-1,1],cmap='viridis')\n",
    "plt.show()\n"
   ],
   "id": "c1c7a3bf6712a11e",
   "outputs": [
    {
     "data": {
      "text/plain": [
       "<Figure size 640x480 with 2 Axes>"
      ],
      "image/png": "[encoded data removed]"
     },
     "metadata": {},
     "output_type": "display_data"
    }
   ],
   "execution_count": 5
  },
  {
   "metadata": {},
   "cell_type": "code",
   "outputs": [],
   "execution_count": null,
   "source": "",
   "id": "f623d15a6571a106"
  }
 ],
 "metadata": {
  "kernelspec": {
   "display_name": "Python 3",
   "language": "python",
   "name": "python3"
  },
  "language_info": {
   "codemirror_mode": {
    "name": "ipython",
    "version": 2
   },
   "file_extension": ".py",
   "mimetype": "text/x-python",
   "name": "python",
   "nbconvert_exporter": "python",
   "pygments_lexer": "ipython2",
   "version": "2.7.6"
  }
 },
 "nbformat": 4,
 "nbformat_minor": 5
}
