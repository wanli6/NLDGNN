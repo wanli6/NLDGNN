{
 "cells": [
  {
   "cell_type": "code",
   "id": "initial_id",
   "metadata": {
    "collapsed": true,
    "ExecuteTime": {
     "end_time": "2024-06-18T13:23:16.798268Z",
     "start_time": "2024-06-18T13:23:16.731012Z"
    }
   },
   "source": [
    "from utils import load_dataset\n",
    "import torch\n",
    "device = 'cuda:0'\n",
    "dataset, data = load_dataset('squirrel', device)\n"
   ],
   "outputs": [],
   "execution_count": 9
  },
  {
   "metadata": {
    "ExecuteTime": {
     "end_time": "2024-06-18T13:23:14.037383Z",
     "start_time": "2024-06-18T13:23:12.699350Z"
    }
   },
   "cell_type": "code",
   "source": [
    "import torch_geometric\n",
    "\n",
    "\n",
    "def add_edges_with_same_label(data, n):\n",
    "    new_edges = []\n",
    "    labels = data.y\n",
    "    num_nodes = data.num_nodes\n",
    "    # 对于每个节点，找到与其标签相同的节点\n",
    "    for i, label in enumerate(labels):\n",
    "        # 获取所有具有相同标签的节点的索引\n",
    "        same_label_indices = torch.where(labels == label)[0]\n",
    "        # 从这些节点中随机选择n个节点（排除自身）\n",
    "        if same_label_indices.numel() > 1:  # 确保至少有两个节点（不包括自身）\n",
    "            selected_indices = torch.tensor([], dtype=torch.long)\n",
    "            if same_label_indices.numel() > n:\n",
    "                selected_indices = torch.randperm(same_label_indices.numel() - 1)[:n]\n",
    "            else:\n",
    "                selected_indices = torch.randperm(same_label_indices.numel() - 1)\n",
    "            selected_indices = same_label_indices[selected_indices]\n",
    "            # 添加新边\n",
    "            new_edges.append(torch.stack([torch.full_like(selected_indices, i), selected_indices], dim=0))\n",
    "    \n",
    "    # 将所有新边合并为一个Tensor\n",
    "    if new_edges:\n",
    "        new_edges = torch.cat(new_edges, dim=1)\n",
    "    else:\n",
    "        new_edges = torch.tensor([], dtype=torch.long).view(2, 0)\n",
    "    \n",
    "    # 去除重复的边\n",
    "    unique_edges = torch_geometric.utils.coalesce(new_edges, None, num_nodes, num_nodes)\n",
    "    \n",
    "    data.edge_index = unique_edges[0]\n",
    "    \n",
    "    return data\n",
    "\n",
    "data = add_edges_with_same_label(data, 5)"
   ],
   "id": "d3e5307898fdadec",
   "outputs": [],
   "execution_count": 8
  },
  {
   "metadata": {
    "ExecuteTime": {
     "end_time": "2024-06-18T13:26:17.632993Z",
     "start_time": "2024-06-18T13:26:17.617864Z"
    }
   },
   "cell_type": "code",
   "source": [
    "import uuid\n",
    "from models import GCN\n",
    "from torch import nn\n",
    "from train import train_mlp, train_step, val_step, test_step\n",
    "from torch_geometric.utils import add_remaining_self_loops, remove_self_loops, to_dense_adj, dense_to_sparse, degree\n",
    "\n",
    "\n",
    "mlp_checkpt_file = 'trained_model_dict/' + uuid.uuid4().hex + 'mlp.pt'\n",
    "mlp_acc = []\n",
    "\n",
    "\n",
    "data.edge_index = add_remaining_self_loops(data.edge_index)[0]\n",
    "y = torch.nn.functional.one_hot(data.y).float().to(device)\n",
    "\n",
    "dense_adj = to_dense_adj(data.edge_index)[0]\n",
    "deg = dense_adj.sum(dim=1, keepdim=True)\n",
    "deg = deg.pow(-0.5)\n",
    "dense_adj = deg.view(-1, 1) * dense_adj * deg.view(1, -1)\n",
    "sparse_adj = dense_adj.to_sparse()\n",
    "\n",
    "\n",
    "for i in range(10):\n",
    "    split = i % 10\n",
    "    train_mask = data.train_mask[:, split]\n",
    "    val_mask = data.val_mask[:, split]\n",
    "    test_mask = data.test_mask[:, split]\n",
    "    criterion = nn.CrossEntropyLoss()\n",
    "    model = GCN(data.num_features, 64, dataset.num_classes, 0.7).to(device)\n",
    "\n",
    "    gnn_optimizer = torch.optim.Adam(params=model.parameters(), lr=0.01, weight_decay=5e-4)\n",
    "\n",
    "    best = 100\n",
    "    patience = 200\n",
    "    count = 0\n",
    "    for i in range(1000):\n",
    "        _ = train_step(train_mask, model, gnn_optimizer, criterion=criterion)\n",
    "        val_loss, val_acc, _ = val_step(val_mask, model, criterion=criterion)\n",
    "        if val_loss < best:\n",
    "            count = 0\n",
    "            best = val_loss\n",
    "            torch.save(model.state_dict(), mlp_checkpt_file)\n",
    "        else:\n",
    "            count += 1\n",
    "            if count == patience:\n",
    "                break\n",
    "\n",
    "    model.load_state_dict(torch.load(mlp_checkpt_file))\n",
    "    loss, best_acc = test_step(test_mask, model, criterion=criterion)\n",
    "    mlp_acc.append(best_acc)\n",
    "    print(f'acc: {best_acc:.3f}')"
   ],
   "id": "16f9ad7543f52865",
   "outputs": [
    {
     "name": "stderr",
     "output_type": "stream",
     "text": [
      "usage: ipykernel_launcher.py [-h] [--seed SEED] [--patience PATIENCE]\n",
      "                             [--lr LR] [--weight_decay WEIGHT_DECAY]\n",
      "                             [--dropout DROPOUT] [--hidden HIDDEN]\n",
      "                             [--nlayers NLAYERS] [--data DATA] [--alpha ALPHA]\n",
      "                             [--gamma GAMMA] [--k K] [--delta DELTA]\n",
      "                             [--beta BETA] [--eps EPS] [--estimator ESTIMATOR]\n",
      "                             [--large_scale LARGE_SCALE] [--lamda LAMDA]\n",
      "                             [--r R] [--weight WEIGHT]\n",
      "ipykernel_launcher.py: error: unrecognized arguments: -f C:\\Users\\Administrator\\AppData\\Roaming\\jupyter\\runtime\\kernel-d9558791-e535-4adc-8ba7-986c9c50ed7b.json\n"
     ]
    },
    {
     "ename": "SystemExit",
     "evalue": "2",
     "output_type": "error",
     "traceback": [
      "An exception has occurred, use %tb to see the full traceback.\n",
      "\u001B[1;31mSystemExit\u001B[0m\u001B[1;31m:\u001B[0m 2\n"
     ]
    }
   ],
   "execution_count": 11
  }
 ],
 "metadata": {
  "kernelspec": {
   "display_name": "Python 3",
   "language": "python",
   "name": "python3"
  },
  "language_info": {
   "codemirror_mode": {
    "name": "ipython",
    "version": 2
   },
   "file_extension": ".py",
   "mimetype": "text/x-python",
   "name": "python",
   "nbconvert_exporter": "python",
   "pygments_lexer": "ipython2",
   "version": "2.7.6"
  }
 },
 "nbformat": 4,
 "nbformat_minor": 5
}
